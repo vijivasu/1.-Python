{
 "cells": [
  {
   "cell_type": "code",
   "execution_count": null,
   "id": "c34fd147-fe36-4372-add9-a890fc72f9df",
   "metadata": {},
   "outputs": [],
   "source": [
    "i= int(input(\"Enter the value of i:\"))\n",
    "if i==10:\n",
    "    print(\"value:\",i)\n",
    "    print(\"Correct\")\n",
    "else:\n",
    "    print(\"Not Correct\")"
   ]
  },
  {
   "cell_type": "code",
   "execution_count": null,
   "id": "d7897be2-955d-4173-82e2-b0ff68e19d51",
   "metadata": {},
   "outputs": [],
   "source": [
    "password = input(\"Enter the password:\")\n",
    "if password==\"Hope@123\":\n",
    "    print(\"The Password is correct\")\n",
    "else:\n",
    "    print(\"The password is not correct\")\n"
   ]
  },
  {
   "cell_type": "code",
   "execution_count": 1,
   "id": "cfecdae3-fd60-46df-bbe2-8cc18d386e58",
   "metadata": {},
   "outputs": [],
   "source": [
    "def agecate():\n",
    "    age=int(input(\"Enter your age:\"))\n",
    "    if(age<=15):\n",
    "        print(\"Children\")\n",
    "    elif(age<=35):\n",
    "         print(\"Adult\")\n",
    "    elif(age<59):\n",
    "         print(\"Citizen\")\n",
    "    else:\n",
    "        print(\"Senior Citizen\")  \n",
    "    "
   ]
  },
  {
   "cell_type": "code",
   "execution_count": 2,
   "id": "8e1607c5-da8c-4c0a-9900-cfe537cf0d00",
   "metadata": {},
   "outputs": [
    {
     "name": "stdin",
     "output_type": "stream",
     "text": [
      "Enter your age: 55\n"
     ]
    },
    {
     "name": "stdout",
     "output_type": "stream",
     "text": [
      "Citizen\n"
     ]
    }
   ],
   "source": [
    "agecate()"
   ]
  },
  {
   "cell_type": "code",
   "execution_count": 3,
   "id": "9170d82c-7483-4482-bed2-78c3ca49c6d2",
   "metadata": {},
   "outputs": [],
   "source": [
    "def number():\n",
    "    num = int(input(\"Enter any number:\"))\n",
    "    if(num>0):\n",
    "        print(\"No is positive:\", num)\n",
    "    if(num<0):\n",
    "        print(\"No is negative:\", num)\n",
    "    \n",
    "            "
   ]
  },
  {
   "cell_type": "code",
   "execution_count": 4,
   "id": "e9e72c71-4528-4fa7-ad8b-cb7f5004fee3",
   "metadata": {},
   "outputs": [
    {
     "name": "stdin",
     "output_type": "stream",
     "text": [
      "Enter any number: -2\n"
     ]
    },
    {
     "name": "stdout",
     "output_type": "stream",
     "text": [
      "No is negative: -2\n"
     ]
    }
   ],
   "source": [
    "number()"
   ]
  },
  {
   "cell_type": "code",
   "execution_count": 5,
   "id": "9600e586-52a3-41c2-9e4b-e2d7722410e8",
   "metadata": {},
   "outputs": [],
   "source": [
    "def divisibleby5():\n",
    "    num = int(input(\"Enter any number:\"))\n",
    "    if(num%5==0):\n",
    "        print(\"Number is divisible by 5:\", num)\n",
    "    else:\n",
    "        print(\"Number is not divisible by 5\")"
   ]
  },
  {
   "cell_type": "code",
   "execution_count": 8,
   "id": "ca4276ca-e2ba-4298-a26e-de644ad6f187",
   "metadata": {},
   "outputs": [
    {
     "name": "stdin",
     "output_type": "stream",
     "text": [
      "Enter any number: 45\n"
     ]
    },
    {
     "name": "stdout",
     "output_type": "stream",
     "text": [
      "Number is divisible by 5: 45\n"
     ]
    }
   ],
   "source": [
    "divisibleby5()"
   ]
  },
  {
   "cell_type": "code",
   "execution_count": 12,
   "id": "a6f576c3-7303-437c-9cbf-4b6a5f6aaef0",
   "metadata": {},
   "outputs": [],
   "source": [
    "#using return statemnet\n",
    "\n",
    "def agecate():\n",
    "    age=int(input(\"Enter your age:\"))\n",
    "    if(age<=15):\n",
    "        print(\"Children\")\n",
    "        cate = \"Children\"\n",
    "    elif(age<=35):\n",
    "         print(\"Adult\")\n",
    "         cate=\"Adult\"\n",
    "    elif(age<59):\n",
    "         print(\"Citizen\")\n",
    "         cate=\"Citizen\"\n",
    "    else:\n",
    "        print(\"Senior Citizen\") \n",
    "        cate=\"Senior Citizen\"\n",
    "    return cate"
   ]
  },
  {
   "cell_type": "code",
   "execution_count": 13,
   "id": "e9ba39eb-bcc6-4c2f-be3e-ca0c48cbf56e",
   "metadata": {},
   "outputs": [
    {
     "name": "stdin",
     "output_type": "stream",
     "text": [
      "Enter your age: 45\n"
     ]
    },
    {
     "name": "stdout",
     "output_type": "stream",
     "text": [
      "Citizen\n"
     ]
    },
    {
     "data": {
      "text/plain": [
       "'Citizen'"
      ]
     },
     "execution_count": 13,
     "metadata": {},
     "output_type": "execute_result"
    }
   ],
   "source": [
    "agecate()"
   ]
  },
  {
   "cell_type": "code",
   "execution_count": 14,
   "id": "8c89c513-dfc6-4082-a301-107541dd2bdd",
   "metadata": {},
   "outputs": [
    {
     "name": "stdin",
     "output_type": "stream",
     "text": [
      "Enter your age: 30\n"
     ]
    },
    {
     "name": "stdout",
     "output_type": "stream",
     "text": [
      "Adult\n"
     ]
    }
   ],
   "source": [
    "cate=agecate()"
   ]
  },
  {
   "cell_type": "code",
   "execution_count": null,
   "id": "887bd710-956a-4d1b-9249-380a3eedd337",
   "metadata": {},
   "outputs": [],
   "source": []
  }
 ],
 "metadata": {
  "kernelspec": {
   "display_name": "Python 3 (ipykernel)",
   "language": "python",
   "name": "python3"
  },
  "language_info": {
   "codemirror_mode": {
    "name": "ipython",
    "version": 3
   },
   "file_extension": ".py",
   "mimetype": "text/x-python",
   "name": "python",
   "nbconvert_exporter": "python",
   "pygments_lexer": "ipython3",
   "version": "3.12.7"
  }
 },
 "nbformat": 4,
 "nbformat_minor": 5
}
