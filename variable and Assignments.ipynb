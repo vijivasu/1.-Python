{
 "cells": [
  {
   "cell_type": "code",
   "execution_count": 1,
   "id": "627980d9-b4f2-437b-b64c-5e1baf04f229",
   "metadata": {},
   "outputs": [
    {
     "name": "stdout",
     "output_type": "stream",
     "text": [
      "50\n"
     ]
    }
   ],
   "source": [
    "num1=20\n",
    "num2=30\n",
    "add=num1+num2\n",
    "print(add)"
   ]
  },
  {
   "cell_type": "code",
   "execution_count": 2,
   "id": "f1948d74-bee4-4452-a24a-e236eaf4bfab",
   "metadata": {},
   "outputs": [
    {
     "ename": "SyntaxError",
     "evalue": "invalid syntax (652378513.py, line 1)",
     "output_type": "error",
     "traceback": [
      "\u001b[1;36m  Cell \u001b[1;32mIn[2], line 1\u001b[1;36m\u001b[0m\n\u001b[1;33m    First Name = \"Viji\"\u001b[0m\n\u001b[1;37m          ^\u001b[0m\n\u001b[1;31mSyntaxError\u001b[0m\u001b[1;31m:\u001b[0m invalid syntax\n"
     ]
    }
   ],
   "source": [
    "First Name = \"Viji\"\n",
    "print(First Name)"
   ]
  },
  {
   "cell_type": "code",
   "execution_count": 3,
   "id": "c19eb770-6588-4128-978c-822d2e23bcae",
   "metadata": {},
   "outputs": [
    {
     "name": "stdout",
     "output_type": "stream",
     "text": [
      "Viji\n"
     ]
    }
   ],
   "source": [
    "FirstName=\"Viji\"\n",
    "print(FirstName)"
   ]
  },
  {
   "cell_type": "code",
   "execution_count": 4,
   "id": "6d7d0df8-462d-4a2c-903a-0aa916a4bad9",
   "metadata": {},
   "outputs": [
    {
     "name": "stdout",
     "output_type": "stream",
     "text": [
      "Addition of Two Numbers:\n",
      "The Number 1: 10\n",
      "The Number 2: 60\n",
      "The Answer is: 70\n"
     ]
    }
   ],
   "source": [
    "print(\"Addition of Two Numbers:\")\n",
    "num1 = 10\n",
    "print(\"The Number 1:\", num1)\n",
    "num2= 60\n",
    "print(\"The Number 2:\", num2)\n",
    "Add = num1 + num2\n",
    "print(\"The Answer is:\", Add)\n",
    "\n"
   ]
  },
  {
   "cell_type": "code",
   "execution_count": null,
   "id": "83f9d549-1170-481e-ac8a-421c75b93aef",
   "metadata": {},
   "outputs": [],
   "source": []
  }
 ],
 "metadata": {
  "kernelspec": {
   "display_name": "Python 3 (ipykernel)",
   "language": "python",
   "name": "python3"
  },
  "language_info": {
   "codemirror_mode": {
    "name": "ipython",
    "version": 3
   },
   "file_extension": ".py",
   "mimetype": "text/x-python",
   "name": "python",
   "nbconvert_exporter": "python",
   "pygments_lexer": "ipython3",
   "version": "3.12.7"
  }
 },
 "nbformat": 4,
 "nbformat_minor": 5
}
