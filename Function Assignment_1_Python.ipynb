{
 "cells": [
  {
   "cell_type": "code",
   "execution_count": 15,
   "id": "870ab09b-5c65-4a39-a075-f51c4bfb6869",
   "metadata": {},
   "outputs": [],
   "source": [
    " \n",
    "list=[\"Machine Learning\", \"Neural Networks\",\"Vision\",\"Robotics\",\"Speech Processing\",\"Natural Language Processing\"]\n",
    "\n"
   ]
  },
  {
   "cell_type": "code",
   "execution_count": 16,
   "id": "9470e06e-0cee-412e-b415-5cbb7970f805",
   "metadata": {},
   "outputs": [],
   "source": [
    "def SubfieldsinAI():\n",
    "    for temp in list:\n",
    "        print(\"Sub-fields in AI are:\", list)"
   ]
  },
  {
   "cell_type": "code",
   "execution_count": 17,
   "id": "efe37206-79a8-4e78-a580-a43a94fba355",
   "metadata": {},
   "outputs": [
    {
     "name": "stdout",
     "output_type": "stream",
     "text": [
      "Sub-fields in AI are: ['Machine Learning', 'Neural Networks', 'Vision', 'Robotics', 'Speech Processing', 'Natural Language Processing']\n",
      "Sub-fields in AI are: ['Machine Learning', 'Neural Networks', 'Vision', 'Robotics', 'Speech Processing', 'Natural Language Processing']\n",
      "Sub-fields in AI are: ['Machine Learning', 'Neural Networks', 'Vision', 'Robotics', 'Speech Processing', 'Natural Language Processing']\n",
      "Sub-fields in AI are: ['Machine Learning', 'Neural Networks', 'Vision', 'Robotics', 'Speech Processing', 'Natural Language Processing']\n",
      "Sub-fields in AI are: ['Machine Learning', 'Neural Networks', 'Vision', 'Robotics', 'Speech Processing', 'Natural Language Processing']\n",
      "Sub-fields in AI are: ['Machine Learning', 'Neural Networks', 'Vision', 'Robotics', 'Speech Processing', 'Natural Language Processing']\n"
     ]
    }
   ],
   "source": [
    "SubfieldsinAI()"
   ]
  },
  {
   "cell_type": "code",
   "execution_count": 18,
   "id": "3c570161-2456-4ed5-9b04-a15f9005c872",
   "metadata": {},
   "outputs": [],
   "source": [
    "# Alternative try\n",
    "\n",
    "def subFieldsinAI():\n",
    "    subFields=[\n",
    "        \"Machine Learning\",\n",
    "        \"Neural Networks\",\n",
    "        \"Vision\",\n",
    "        \"Robotics\",\n",
    "        \"Speech Processing\",\n",
    "        \"Natural Language Processing\"]\n",
    "\n",
    "    print(\"sub-fields in AI are:\")\n",
    "    for field in subFields:\n",
    "        print(field)"
   ]
  },
  {
   "cell_type": "code",
   "execution_count": 19,
   "id": "d0eece48-3fef-42c0-87c7-e24a23e7b79d",
   "metadata": {},
   "outputs": [
    {
     "name": "stdout",
     "output_type": "stream",
     "text": [
      "sub-fields in AI are:\n",
      "Machine Learning\n",
      "Neural Networks\n",
      "Vision\n",
      "Robotics\n",
      "Speech Processing\n",
      "Natural Language Processing\n"
     ]
    }
   ],
   "source": [
    "subFieldsinAI()"
   ]
  },
  {
   "cell_type": "code",
   "execution_count": 20,
   "id": "7e563ab6-a502-4082-bfa5-b0d419f96b54",
   "metadata": {},
   "outputs": [],
   "source": [
    "def oddEven():\n",
    "    number = int(input(\"Enter the number to check the given number is Odd or Even:\"))\n",
    "    if(number%2)==0:\n",
    "        print(number,\"is a Even Number\")\n",
    "    else:\n",
    "        print(number, \"is a Odd Number\")\n",
    "    \n",
    "        "
   ]
  },
  {
   "cell_type": "code",
   "execution_count": 21,
   "id": "8dc36cf0-0ce9-420a-8fb5-c85b1273a0bd",
   "metadata": {},
   "outputs": [
    {
     "name": "stdin",
     "output_type": "stream",
     "text": [
      "Enter the number to check the given number is Odd or Even: 5475\n"
     ]
    },
    {
     "name": "stdout",
     "output_type": "stream",
     "text": [
      "5475 is a Odd Number\n"
     ]
    }
   ],
   "source": [
    "oddEven()"
   ]
  },
  {
   "cell_type": "code",
   "execution_count": 8,
   "id": "ebb18c08-11f3-40c3-866f-8a764e75fa05",
   "metadata": {},
   "outputs": [],
   "source": [
    "def EligibilityForMarriage():\n",
    "    gender = input(\"Enter your gender:\")\n",
    "    age = int(input(\"Enter your age:\"))\n",
    "    if(gender==\"Male\" and age>=22):\n",
    "        print(\"You are Eligible for Marriage\")\n",
    "    elif(gender==\"Female\" and age>=18):\n",
    "        print(\"You are eligible for Marraige\")\n",
    "    else:\n",
    "        print(\"You are not eligible for Marraige\")"
   ]
  },
  {
   "cell_type": "code",
   "execution_count": 10,
   "id": "881c3197-393a-4f02-a60f-27ea94caf717",
   "metadata": {},
   "outputs": [
    {
     "name": "stdin",
     "output_type": "stream",
     "text": [
      "Enter your gender: Female\n",
      "Enter your age: 15\n"
     ]
    },
    {
     "name": "stdout",
     "output_type": "stream",
     "text": [
      "You are not eligible for Marraige\n"
     ]
    }
   ],
   "source": [
    "EligibilityForMarriage()"
   ]
  },
  {
   "cell_type": "code",
   "execution_count": 27,
   "id": "8e30f927-fddb-4504-a312-04bb4364d7cb",
   "metadata": {},
   "outputs": [],
   "source": [
    "def Findpercent():\n",
    "    list= [\"sub1\", \"sub2\", \"sub3\", \"sub4\", \"sub5\"] \n",
    "    count = len(list)\n",
    "    sub1 = int(input(\"Subject 1:\"))\n",
    "    sub2 = int(input(\"Subject 2:\"))\n",
    "    sub3 = int(input(\"Subject 3:\"))\n",
    "    sub4 = int(input(\"Subject 4:\"))\n",
    "    sub5 = int(input(\"Subject 5:\"))\n",
    "\n",
    "    total = int(sub1 + sub2 + sub3 + sub4 + sub5)\n",
    "\n",
    "    print(\" Total:\", total)\n",
    "\n",
    "    pct = int(total/count)\n",
    "    print(\"percentagect:{pct:.14f}\",pct)\n",
    "     \n",
    "               "
   ]
  },
  {
   "cell_type": "code",
   "execution_count": 28,
   "id": "41bf6685-a15a-40e0-bc64-f17b86b29b9b",
   "metadata": {},
   "outputs": [
    {
     "name": "stdin",
     "output_type": "stream",
     "text": [
      "Subject 1: 92\n",
      "Subject 2: 93\n",
      "Subject 3: 95\n",
      "Subject 4: 96\n",
      "Subject 5: 90\n"
     ]
    },
    {
     "name": "stdout",
     "output_type": "stream",
     "text": [
      " Total: 466\n",
      "pct:93.00000000000000 93\n"
     ]
    }
   ],
   "source": [
    "Findpercent()"
   ]
  },
  {
   "cell_type": "code",
   "execution_count": 1,
   "id": "a01eebd4-8e97-4470-a093-8533f1282cdb",
   "metadata": {},
   "outputs": [],
   "source": [
    "def triangle():\n",
    "    height = int(input(\"Enter Height:\"))\n",
    "    breadth = int(input(\"Enter Breadth:\"))\n",
    "    print(\"Area Formula:(height*breadth)/2\")\n",
    "    AreaFormula = (height*breadth)/2\n",
    "    print(\"Area of Triangle:\" , AreaFormula)\n",
    "\n",
    "    height1 = int(input(\"Enter Height 1:\"))\n",
    "    height2 = int(input(\"Enter Height 2:\"))\n",
    "    breadth1 = int(input(\"Enter Breadth 1:\"))\n",
    "\n",
    "    print(\"perimeter Formula: height1 + height2 + breadth1\")\n",
    "    perimeterOfTriangle =  height1 + height2 + breadth1\n",
    "    print(\"Perimeter Of Traingle:\", perimeterOfTriangle)\n",
    "\n",
    "    \n"
   ]
  },
  {
   "cell_type": "code",
   "execution_count": 2,
   "id": "fc760d3c-4e5a-4161-9713-992d42d38634",
   "metadata": {},
   "outputs": [
    {
     "name": "stdin",
     "output_type": "stream",
     "text": [
      "Enter Height: 32\n",
      "Enter Breadth: 34\n"
     ]
    },
    {
     "name": "stdout",
     "output_type": "stream",
     "text": [
      "Area Formula:(height*breadth)/2\n",
      "Area of Triangle: 544.0\n"
     ]
    },
    {
     "name": "stdin",
     "output_type": "stream",
     "text": [
      "Enter Height 1: 2\n",
      "Enter Height 2: 4\n",
      "Enter Breadth 1: 4\n"
     ]
    },
    {
     "name": "stdout",
     "output_type": "stream",
     "text": [
      "perimeter Formula: height1 + height2 + breadth1\n",
      "Perimeter Of Traingle: 10\n"
     ]
    }
   ],
   "source": [
    "triangle()"
   ]
  },
  {
   "cell_type": "code",
   "execution_count": null,
   "id": "c91058bd-058d-448c-ac4c-44b00c4a7cf9",
   "metadata": {},
   "outputs": [],
   "source": []
  }
 ],
 "metadata": {
  "kernelspec": {
   "display_name": "Python 3 (ipykernel)",
   "language": "python",
   "name": "python3"
  },
  "language_info": {
   "codemirror_mode": {
    "name": "ipython",
    "version": 3
   },
   "file_extension": ".py",
   "mimetype": "text/x-python",
   "name": "python",
   "nbconvert_exporter": "python",
   "pygments_lexer": "ipython3",
   "version": "3.12.7"
  }
 },
 "nbformat": 4,
 "nbformat_minor": 5
}
