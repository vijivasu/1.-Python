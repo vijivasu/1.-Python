{
 "cells": [
  {
   "cell_type": "code",
   "execution_count": 2,
   "id": "7485fb77-d522-48d3-b8c6-091cad9fa82e",
   "metadata": {},
   "outputs": [
    {
     "name": "stdout",
     "output_type": "stream",
     "text": [
      "0\n",
      "1\n",
      "2\n",
      "3\n",
      "4\n",
      "5\n",
      "6\n",
      "7\n",
      "8\n",
      "9\n",
      "10\n",
      "11\n",
      "12\n",
      "13\n",
      "14\n",
      "15\n",
      "16\n",
      "17\n",
      "18\n",
      "19\n"
     ]
    }
   ],
   "source": [
    "for num in range(0,20):\n",
    "    print(num)\n"
   ]
  },
  {
   "cell_type": "code",
   "execution_count": 5,
   "id": "44905cdb-f336-42ea-96e4-b03c39016cd8",
   "metadata": {},
   "outputs": [
    {
     "name": "stdout",
     "output_type": "stream",
     "text": [
      "10 11 12 13 14 15 16 17 18 19 "
     ]
    }
   ],
   "source": [
    "for num in range(10,20):\n",
    "    print(num, end=\" \")"
   ]
  },
  {
   "cell_type": "code",
   "execution_count": 9,
   "id": "a170a14a-e836-40cd-9a75-22606dc86ff9",
   "metadata": {},
   "outputs": [
    {
     "name": "stdout",
     "output_type": "stream",
     "text": [
      "Number of items in the List_2: 7\n"
     ]
    }
   ],
   "source": [
    "list=[10,20,14,55,43,87,76]\n",
    "print(\"Number of items in the List_2:\", len(list))"
   ]
  },
  {
   "cell_type": "code",
   "execution_count": 9,
   "id": "16358328-b57e-4df4-880b-b5f9e450dee0",
   "metadata": {},
   "outputs": [],
   "source": [
    "def charPrint():\n",
    "    print(\"Artificial Intelligence\")\n",
    "    text=\"Artificial Intelligence\"\n",
    "    print(\"Length of the word:\", len(text)) \n",
    "    for char in text:\n",
    "        print(char)\n",
    "        \n",
    "\n"
   ]
  },
  {
   "cell_type": "code",
   "execution_count": 10,
   "id": "1b5424fb-b7d0-4976-88be-918f3a3e937f",
   "metadata": {},
   "outputs": [
    {
     "name": "stdout",
     "output_type": "stream",
     "text": [
      "Artificial Intelligence\n",
      "Length of the word: 23\n",
      "A\n",
      "r\n",
      "t\n",
      "i\n",
      "f\n",
      "i\n",
      "c\n",
      "i\n",
      "a\n",
      "l\n",
      " \n",
      "I\n",
      "n\n",
      "t\n",
      "e\n",
      "l\n",
      "l\n",
      "i\n",
      "g\n",
      "e\n",
      "n\n",
      "c\n",
      "e\n"
     ]
    }
   ],
   "source": [
    "charPrint()"
   ]
  },
  {
   "cell_type": "code",
   "execution_count": 14,
   "id": "52b42545-96cc-4757-a7d2-86d98c59e5ce",
   "metadata": {},
   "outputs": [
    {
     "name": "stdin",
     "output_type": "stream",
     "text": [
      "Enter your Name: Viji\n",
      "Enter your age: 38\n",
      "Enter your profession: IT\n"
     ]
    }
   ],
   "source": [
    "name = input(\"Enter your Name:\")\n",
    "age = input(\"Enter your age:\")\n",
    "profession = input(\"Enter your profession:\")\n"
   ]
  },
  {
   "cell_type": "code",
   "execution_count": 3,
   "id": "a687d970-7abb-4ffd-83be-76dfeb56f3e6",
   "metadata": {},
   "outputs": [],
   "source": [
    "def oddeven():\n",
    "    list=[20,10,16,19,25,1,276,188]\n",
    "    for temp in list:\n",
    "        if temp%2!=0:\n",
    "            print( temp,\"is Odd Number\")\n",
    "            message=\"odd Number\"\n",
    "        else:\n",
    "            print(temp, \"is Even Number\")\n",
    "            message= \"Even Number\"\n",
    "    return message\n"
   ]
  },
  {
   "cell_type": "code",
   "execution_count": 4,
   "id": "b0195d1d-6f86-42b9-be8b-8b363f60829e",
   "metadata": {},
   "outputs": [
    {
     "name": "stdout",
     "output_type": "stream",
     "text": [
      "20 is Even Number\n",
      "10 is Even Number\n",
      "16 is Even Number\n",
      "19 is Odd Number\n",
      "25 is Odd Number\n",
      "1 is Odd Number\n",
      "276 is Even Number\n",
      "188 is Even Number\n"
     ]
    }
   ],
   "source": [
    "oddeven()"
   ]
  },
  {
   "cell_type": "code",
   "execution_count": 8,
   "id": "d061963c-035f-46f3-9b70-eecc61ff57a9",
   "metadata": {},
   "outputs": [
    {
     "name": "stdout",
     "output_type": "stream",
     "text": [
      "20 is Even Number\n",
      "10 is Even Number\n",
      "16 is Even Number\n",
      "276 is Even Number\n",
      "188 is Even Number\n"
     ]
    }
   ],
   "source": [
    "list=[20,10,16,19,25,1,276,188]\n",
    "for temp in list:\n",
    "    if temp%2==0:\n",
    "        print(temp, \"is Even Number\")"
   ]
  },
  {
   "cell_type": "code",
   "execution_count": 1,
   "id": "c8f449ae-9ee5-466d-8cd0-40f3b719606e",
   "metadata": {},
   "outputs": [],
   "source": [
    "def tuple():\n",
    "    tup=(1, 'Welcome', 2, 'Hope')\n",
    "    print(tup)"
   ]
  },
  {
   "cell_type": "code",
   "execution_count": 2,
   "id": "648aa087-b7d7-46c2-b56b-9bca3ec5ddee",
   "metadata": {},
   "outputs": [
    {
     "name": "stdout",
     "output_type": "stream",
     "text": [
      "(1, 'Welcome', 2, 'Hope')\n"
     ]
    }
   ],
   "source": [
    "tuple()"
   ]
  },
  {
   "cell_type": "code",
   "execution_count": 3,
   "id": "dd852a9e-326c-429b-9a17-c3ae39bc61d4",
   "metadata": {},
   "outputs": [],
   "source": [
    "def nestedTuple():\n",
    "    tup1=(0,1,2,3)\n",
    "    tup2=('Python', 'Hope')\n",
    "    tup3=(tup1,tup2)\n",
    "    print(tup3)\n",
    "    \n",
    "    "
   ]
  },
  {
   "cell_type": "code",
   "execution_count": 4,
   "id": "8182f20f-fd13-4e26-849b-cda7f2cc4704",
   "metadata": {},
   "outputs": [
    {
     "name": "stdout",
     "output_type": "stream",
     "text": [
      "((0, 1, 2, 3), ('Python', 'Hope'))\n"
     ]
    }
   ],
   "source": [
    "nestedTuple()"
   ]
  },
  {
   "cell_type": "code",
   "execution_count": null,
   "id": "76323b8c-b9c1-4a20-ab4c-11c932027381",
   "metadata": {},
   "outputs": [],
   "source": []
  }
 ],
 "metadata": {
  "kernelspec": {
   "display_name": "Python 3 (ipykernel)",
   "language": "python",
   "name": "python3"
  },
  "language_info": {
   "codemirror_mode": {
    "name": "ipython",
    "version": 3
   },
   "file_extension": ".py",
   "mimetype": "text/x-python",
   "name": "python",
   "nbconvert_exporter": "python",
   "pygments_lexer": "ipython3",
   "version": "3.12.7"
  }
 },
 "nbformat": 4,
 "nbformat_minor": 5
}
