{
 "cells": [
  {
   "cell_type": "code",
   "execution_count": 3,
   "id": "9407df73-0b4a-4229-8b7e-dea583dc4fd1",
   "metadata": {},
   "outputs": [
    {
     "name": "stdout",
     "output_type": "stream",
     "text": [
      "Hope AI\n"
     ]
    }
   ],
   "source": [
    "print(\"Hope AI\")"
   ]
  },
  {
   "cell_type": "code",
   "execution_count": 2,
   "id": "c7a372fb-a470-41fa-beb7-7a758b98923f",
   "metadata": {},
   "outputs": [
    {
     "name": "stdin",
     "output_type": "stream",
     "text": [
      "Enter your Institute Name: Hope AI\n"
     ]
    }
   ],
   "source": [
    "instituteName = input(\"Enter your Institute Name:\")"
   ]
  },
  {
   "cell_type": "code",
   "execution_count": 4,
   "id": "4161b788-807e-4655-ac66-8482b2ae2439",
   "metadata": {},
   "outputs": [
    {
     "name": "stdin",
     "output_type": "stream",
     "text": [
      "Enter your Name: Viji\n",
      "Enter your age: 38\n",
      "Enter your school Name: Ramakrishma School\n",
      "Enter your degree: MS in Software Eng\n"
     ]
    }
   ],
   "source": [
    "name = input(\"Enter your Name:\")\n",
    "age = input(\"Enter your age:\")\n",
    "school = input(\"Enter your school Name:\")\n",
    "degree = input(\"Enter your degree:\")"
   ]
  },
  {
   "cell_type": "code",
   "execution_count": 5,
   "id": "4ae33bb0-04c5-4f1f-8bd6-d98b0beab3ef",
   "metadata": {},
   "outputs": [
    {
     "name": "stdin",
     "output_type": "stream",
     "text": [
      "a= 43\n",
      "b= 34\n"
     ]
    },
    {
     "name": "stdout",
     "output_type": "stream",
     "text": [
      "Add= 77\n"
     ]
    }
   ],
   "source": [
    "num1 = int(input(\"a=\"))\n",
    "num2 = int(input(\"b=\"))\n",
    "add= num1+num2\n",
    "print(\"Add=\",add)"
   ]
  },
  {
   "cell_type": "code",
   "execution_count": 6,
   "id": "caeee1f9-8f3a-415d-8cd7-b247c50d93df",
   "metadata": {},
   "outputs": [
    {
     "name": "stdin",
     "output_type": "stream",
     "text": [
      "a= 43\n",
      "b= 34\n"
     ]
    },
    {
     "name": "stdout",
     "output_type": "stream",
     "text": [
      "Sub= 9\n"
     ]
    }
   ],
   "source": [
    "num1= int(input(\"a=\"))\n",
    "num2=int(input(\"b=\"))\n",
    "sub = num1-num2\n",
    "print(\"Sub=\",sub)"
   ]
  },
  {
   "cell_type": "code",
   "execution_count": 7,
   "id": "b0663c13-e5ff-4118-b956-30252d7a6146",
   "metadata": {},
   "outputs": [
    {
     "name": "stdin",
     "output_type": "stream",
     "text": [
      "a= 63\n",
      "b= 97\n"
     ]
    },
    {
     "name": "stdout",
     "output_type": "stream",
     "text": [
      "Mul= 6111\n"
     ]
    }
   ],
   "source": [
    "num1 = int(input(\"a=\"))\n",
    "num2 = int(input(\"b=\"))\n",
    "mul = num1*num2\n",
    "print(\"Mul=\", mul)"
   ]
  },
  {
   "cell_type": "code",
   "execution_count": 8,
   "id": "a5f4adff-a60e-46d4-83e4-33fdee20fbcc",
   "metadata": {},
   "outputs": [
    {
     "name": "stdin",
     "output_type": "stream",
     "text": [
      "a= 76\n",
      "b= 31\n"
     ]
    },
    {
     "name": "stdout",
     "output_type": "stream",
     "text": [
      "Div = 2.4516129032258065\n"
     ]
    }
   ],
   "source": [
    "num1 = int(input(\"a=\"))\n",
    "num2 = int(input(\"b=\"))\n",
    "div = num1/num2\n",
    "print(\"Div =\",div)"
   ]
  },
  {
   "cell_type": "code",
   "execution_count": 9,
   "id": "d598827e-06e4-4962-b592-be0fc58a8391",
   "metadata": {},
   "outputs": [
    {
     "name": "stdin",
     "output_type": "stream",
     "text": [
      "a= 76\n",
      "b= 31\n"
     ]
    },
    {
     "name": "stdout",
     "output_type": "stream",
     "text": [
      "Floor Div= 2\n"
     ]
    }
   ],
   "source": [
    "num1 = int(input(\"a=\"))\n",
    "num2 = int(input(\"b=\"))\n",
    "floorDiv = num1//num2\n",
    "print(\"Floor Div=\", floorDiv)"
   ]
  },
  {
   "cell_type": "code",
   "execution_count": 10,
   "id": "d634219c-806a-4877-874c-b4d92d3ce60a",
   "metadata": {},
   "outputs": [
    {
     "name": "stdin",
     "output_type": "stream",
     "text": [
      "a= 76\n",
      "b= 31\n"
     ]
    },
    {
     "name": "stdout",
     "output_type": "stream",
     "text": [
      "Modulo= 14\n"
     ]
    }
   ],
   "source": [
    "num1 = int(input(\"a=\"))\n",
    "num2 = int(input(\"b=\"))\n",
    "mod = num1%num2\n",
    "print(\"Modulo=\", mod)"
   ]
  },
  {
   "cell_type": "code",
   "execution_count": 1,
   "id": "01630b7f-84ee-4eac-9694-e56eb0c4c080",
   "metadata": {},
   "outputs": [
    {
     "name": "stdin",
     "output_type": "stream",
     "text": [
      "a= 4\n",
      "b= 4\n"
     ]
    },
    {
     "name": "stdout",
     "output_type": "stream",
     "text": [
      "Power= 256\n"
     ]
    }
   ],
   "source": [
    "num1 = int(input(\"a=\"))\n",
    "num2 = int(input(\"b=\"))\n",
    "result = pow(num1,num2)\n",
    "\n",
    "print(\"Power=\", result)"
   ]
  },
  {
   "cell_type": "code",
   "execution_count": null,
   "id": "386e92b1-1c69-45c7-96d3-532c406ecf64",
   "metadata": {},
   "outputs": [],
   "source": []
  }
 ],
 "metadata": {
  "kernelspec": {
   "display_name": "Python 3 (ipykernel)",
   "language": "python",
   "name": "python3"
  },
  "language_info": {
   "codemirror_mode": {
    "name": "ipython",
    "version": 3
   },
   "file_extension": ".py",
   "mimetype": "text/x-python",
   "name": "python",
   "nbconvert_exporter": "python",
   "pygments_lexer": "ipython3",
   "version": "3.12.7"
  }
 },
 "nbformat": 4,
 "nbformat_minor": 5
}
